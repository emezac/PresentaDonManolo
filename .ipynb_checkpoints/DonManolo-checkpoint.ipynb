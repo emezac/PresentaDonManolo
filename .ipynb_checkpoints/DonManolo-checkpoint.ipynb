{
 "cells": [
  {
   "cell_type": "code",
   "execution_count": 12,
   "metadata": {},
   "outputs": [],
   "source": [
    "#Don Manolo2 : A point of sale growing to miniERP\n",
    "#Description : http://donmanolo2.sourceforge.net/\n",
    "#Why ?? \n",
    "\n",
    "#LIST ON RUBY-GNOME:\n",
    "#http://ruby-gnome2.osdn.jp/hiki.cgi?Applications\n",
    "#CONFERENCE :\n",
    "#http://conferences.oreillynet.com/cs/ubuntu/view/e_spkr/3645\n"
   ]
  },
  {
   "cell_type": "code",
   "execution_count": 1,
   "metadata": {},
   "outputs": [
    {
     "data": {
      "text/plain": [
       "true"
      ]
     },
     "execution_count": 1,
     "metadata": {},
     "output_type": "execute_result"
    }
   ],
   "source": [
    "require 'rbplotly'"
   ]
  },
  {
   "cell_type": "code",
   "execution_count": null,
   "metadata": {},
   "outputs": [],
   "source": []
  },
  {
   "cell_type": "code",
   "execution_count": 1,
   "metadata": {},
   "outputs": [
    {
     "data": {
      "text/plain": [
       "true"
      ]
     },
     "execution_count": 1,
     "metadata": {},
     "output_type": "execute_result"
    }
   ],
   "source": [
    "require \"observer\"\n",
    "require 'gtk2'"
   ]
  },
  {
   "cell_type": "code",
   "execution_count": 2,
   "metadata": {},
   "outputs": [
    {
     "data": {
      "text/plain": [
       ":faranheit_changer"
      ]
     },
     "execution_count": 2,
     "metadata": {},
     "output_type": "execute_result"
    }
   ],
   "source": [
    "class TemperatureWatcher\n",
    "\n",
    "  def initialize(t,g)\n",
    "    t.add_listener(self)\n",
    "    @gui = g\n",
    "  end\n",
    "\n",
    "  def celsius_changer(temp)\n",
    "     @newc = temp\n",
    "     @newf = @newc*9.0/5.0 + 32.0\n",
    "     @gui.setDisplayF(@newf)\n",
    "     @gui.setDisplayC(@newc)\n",
    "     @gui.setTemp(@newc)\n",
    "  end\n",
    "\n",
    "  def faranheit_changer(temp)\n",
    "     @newf = temp\n",
    "     @newc = (@newf -32.0)*5.0/9.0\n",
    "     @gui.setDisplayF(@newf)\n",
    "     @gui.setDisplayC(@newc)\n",
    "     @gui.setTemp(@newc)\n",
    "  end\n",
    "\n",
    "end"
   ]
  },
  {
   "cell_type": "code",
   "execution_count": 3,
   "metadata": {},
   "outputs": [
    {
     "data": {
      "text/plain": [
       ":quit"
      ]
     },
     "execution_count": 3,
     "metadata": {},
     "output_type": "execute_result"
    }
   ],
   "source": [
    "class TemperatureGUI\n",
    "\n",
    "  def initialize(temp,temperature)\n",
    "    @temp, @temperature = temp,temperature\n",
    "    @builder = Gtk::Builder.new.add_from_file(\"/tmp/temp.ui\")\n",
    "    @builder.connect_signals{|handler| method(handler)}\n",
    "    @entryF = @builder[\"entry1\"]\n",
    "    @entryC = @builder[\"entry2\"]\n",
    "    @vscale = @builder[\"vscale1\"]\n",
    "    @entryF.set_text(@temp.to_s)\n",
    "    @entryC.set_text(((5.0/9.0)*(@temp-32.0)).to_s)\n",
    "    @vscale.set_value((5.0/9.0)*(@temp-32.0))\n",
    "    f_up_button = @builder[\"button1\"]\n",
    "    f_down_button = @builder[\"button2\"]\n",
    "    c_up_button = @builder[\"button3\"]\n",
    "    c_down_button = @builder[\"button4\"]\n",
    "  end\n",
    "\n",
    "  def setDisplayF(newF)\n",
    "    @newF = newF\n",
    "    @entryF.set_text(\"#{@newF}\")\n",
    "  end\n",
    "\n",
    "  def setDisplayC(newC)\n",
    "    @newC = newC\n",
    "    @entryC.set_text(\"#{@newC}\")\n",
    "  end\n",
    "\n",
    "  def getDisplayF\n",
    "    @entryF.text.to_f\n",
    "  end\n",
    "\n",
    "  def getDisplayC\n",
    "    @entryC.text.to_f\n",
    "  end\n",
    "\n",
    "  def procScale\n",
    "      @v = @vscale.value\n",
    "      @temperature.newtC(@v)\n",
    "  end\n",
    "\n",
    "  def procEntryC\n",
    "      @v = getDisplayC\n",
    "      @temperature.newtC(@v)\n",
    "  end\n",
    "\n",
    "  def procEntryF\n",
    "      @nv = getDisplayF\n",
    "      @v = (5.0/9.0)*(@nv-32.0)\n",
    "      @temperature.newtC(@v)\n",
    "  end\n",
    "\n",
    "  def upF\n",
    "      @temp =  getDisplayF\n",
    "      @temperature.upF(@temp)\n",
    "  end\n",
    "\n",
    "  def downF\n",
    "      @temp =  getDisplayF\n",
    "      @temperature.downF(@temp)\n",
    "  end\n",
    "\n",
    "  def upC\n",
    "      @temp =  getDisplayC\n",
    "      @temperature.upC(@temp)\n",
    "  end\n",
    "\n",
    "  def downC\n",
    "      @temp =  getDisplayC\n",
    "      @temperature.downC(@temp)\n",
    "  end\n",
    "\n",
    "  def setTemp(t)\n",
    "    @t = t \n",
    "    @vscale.set_value(@t)\n",
    "  end\n",
    "\n",
    "  def quit\n",
    "    Gtk.main_quit\n",
    "  end\n",
    " \n",
    "end"
   ]
  },
  {
   "cell_type": "code",
   "execution_count": 4,
   "metadata": {},
   "outputs": [
    {
     "data": {
      "text/plain": [
       ":newtC"
      ]
     },
     "execution_count": 4,
     "metadata": {},
     "output_type": "execute_result"
    }
   ],
   "source": [
    "class TemperatureModel\n",
    "\n",
    "   def initialize\n",
    "    @listeners = []\n",
    "   end\n",
    "\n",
    "   def add_listener(listener)\n",
    "    @listeners << listener\n",
    "   end\n",
    "\n",
    "   def upF(temp)\n",
    "      @temp = temp\n",
    "      @temp += 1\n",
    "      @listeners.each {|l| l.faranheit_changer(@temp) }\n",
    "   end\n",
    "\n",
    "   def downF(temp)\n",
    "      @temp = temp\n",
    "      @temp -= 1\n",
    "      @listeners.each {|l| l.faranheit_changer(@temp) }\n",
    "   end\n",
    "\n",
    "   def upC(temp)\n",
    "      @temp = temp\n",
    "      @temp += 1\n",
    "      @listeners.each {|l| l.celsius_changer(@temp) }\n",
    "   end\n",
    "\n",
    "   def downC(temp)\n",
    "      @temp = temp\n",
    "      @temp -= 1\n",
    "      @listeners.each {|l| l.celsius_changer(@temp) }\n",
    "   end\n",
    "\n",
    "   def newtC(temp)\n",
    "      @temp = temp\n",
    "      @listeners.each {|l| l.celsius_changer(@temp) }\n",
    "   end\n",
    "\n",
    "end"
   ]
  },
  {
   "cell_type": "code",
   "execution_count": 5,
   "metadata": {},
   "outputs": [],
   "source": [
    "INICIALTEMP = 32.0\n",
    "\n",
    "temperature = TemperatureModel.new\n",
    "tgui        = TemperatureGUI.new(INICIALTEMP,temperature)\n",
    "watcher     = TemperatureWatcher.new(temperature,tgui)\n",
    "\n",
    "Gtk.init\n",
    "Gtk.main\n"
   ]
  },
  {
   "cell_type": "code",
   "execution_count": null,
   "metadata": {},
   "outputs": [],
   "source": []
  }
 ],
 "metadata": {
  "kernelspec": {
   "display_name": "Ruby 2.6.0",
   "language": "ruby",
   "name": "ruby"
  },
  "language_info": {
   "file_extension": ".rb",
   "mimetype": "application/x-ruby",
   "name": "ruby",
   "version": "2.6.0"
  }
 },
 "nbformat": 4,
 "nbformat_minor": 2
}
